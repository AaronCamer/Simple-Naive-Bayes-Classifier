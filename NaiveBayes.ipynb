{
 "cells": [
  {
   "cell_type": "markdown",
   "metadata": {},
   "source": [
    "## Naive Bayes Classifier using the extended PlayTennis dataset.\n",
    "\n",
    "We will be using the PlayTennis dataset in order to, predict whether the player will play or not, on the given weather. We will be using 4 independent variables and 1 dependent variable.\n",
    "The independent variables will be the **OUTLOOK**, **TEMPERATURE**, **HUMIDITY**, **WINDY**, and the dependent variable will be whether the person will play or not."
   ]
  },
  {
   "cell_type": "code",
   "execution_count": 1,
   "metadata": {},
   "outputs": [],
   "source": [
    "# First we need to import all libraries needed for the training. Make sure to install pandas and scikit first using pip install.\n",
    "import pandas as pd\n",
    "from sklearn.naive_bayes import GaussianNB\n",
    "from sklearn.preprocessing import LabelEncoder\n",
    "from sklearn.model_selection import train_test_split\n",
    "from sklearn.metrics import accuracy_score"
   ]
  },
  {
   "cell_type": "code",
   "execution_count": 2,
   "metadata": {},
   "outputs": [
    {
     "data": {
      "text/html": [
       "<div>\n",
       "<style scoped>\n",
       "    .dataframe tbody tr th:only-of-type {\n",
       "        vertical-align: middle;\n",
       "    }\n",
       "\n",
       "    .dataframe tbody tr th {\n",
       "        vertical-align: top;\n",
       "    }\n",
       "\n",
       "    .dataframe thead th {\n",
       "        text-align: right;\n",
       "    }\n",
       "</style>\n",
       "<table border=\"1\" class=\"dataframe\">\n",
       "  <thead>\n",
       "    <tr style=\"text-align: right;\">\n",
       "      <th></th>\n",
       "      <th>Outlook</th>\n",
       "      <th>Temperature</th>\n",
       "      <th>Humidity</th>\n",
       "      <th>Wind</th>\n",
       "      <th>Play Tennis</th>\n",
       "    </tr>\n",
       "  </thead>\n",
       "  <tbody>\n",
       "    <tr>\n",
       "      <th>0</th>\n",
       "      <td>sunny</td>\n",
       "      <td>hot</td>\n",
       "      <td>high</td>\n",
       "      <td>false</td>\n",
       "      <td>no</td>\n",
       "    </tr>\n",
       "    <tr>\n",
       "      <th>1</th>\n",
       "      <td>sunny</td>\n",
       "      <td>hot</td>\n",
       "      <td>high</td>\n",
       "      <td>true</td>\n",
       "      <td>no</td>\n",
       "    </tr>\n",
       "    <tr>\n",
       "      <th>2</th>\n",
       "      <td>overcast</td>\n",
       "      <td>hot</td>\n",
       "      <td>high</td>\n",
       "      <td>false</td>\n",
       "      <td>yes</td>\n",
       "    </tr>\n",
       "    <tr>\n",
       "      <th>3</th>\n",
       "      <td>rainy</td>\n",
       "      <td>mild</td>\n",
       "      <td>high</td>\n",
       "      <td>false</td>\n",
       "      <td>yes</td>\n",
       "    </tr>\n",
       "    <tr>\n",
       "      <th>4</th>\n",
       "      <td>rainy</td>\n",
       "      <td>cool</td>\n",
       "      <td>normal</td>\n",
       "      <td>false</td>\n",
       "      <td>yes</td>\n",
       "    </tr>\n",
       "  </tbody>\n",
       "</table>\n",
       "</div>"
      ],
      "text/plain": [
       "    Outlook Temperature Humidity    Wind Play Tennis\n",
       "0     sunny         hot     high  false           no\n",
       "1     sunny         hot     high   true           no\n",
       "2  overcast         hot     high  false          yes\n",
       "3     rainy        mild     high  false          yes\n",
       "4     rainy        cool   normal  false          yes"
      ]
     },
     "execution_count": 2,
     "metadata": {},
     "output_type": "execute_result"
    }
   ],
   "source": [
    "# First load the CSV file using pandas read_csv method\n",
    "play_tennis = pd.read_csv(\"PlayTennis.csv\")\n",
    "play_tennis.head()"
   ]
  },
  {
   "cell_type": "code",
   "execution_count": 3,
   "metadata": {},
   "outputs": [],
   "source": [
    "# Label Encoder converts categorical data into numbers \n",
    "number = LabelEncoder()"
   ]
  },
  {
   "cell_type": "code",
   "execution_count": 4,
   "metadata": {},
   "outputs": [
    {
     "name": "stdout",
     "output_type": "stream",
     "text": [
      "    Outlook  Temperature  Humidity  Wind  Play Tennis\n",
      "0         2            1         0     0            0\n",
      "1         2            1         0     1            0\n",
      "2         0            1         0     0            1\n",
      "3         1            2         0     0            1\n",
      "4         1            0         1     0            1\n",
      "5         1            0         1     1            0\n",
      "6         0            0         1     1            1\n",
      "7         2            2         0     0            0\n",
      "8         2            0         1     0            1\n",
      "9         1            2         1     0            1\n",
      "10        2            2         1     1            1\n",
      "11        0            2         0     1            1\n",
      "12        0            1         1     0            1\n",
      "13        1            2         0     1            0\n"
     ]
    }
   ],
   "source": [
    "# Let's convert categorical data into number\n",
    "# 3 classes from Outlook (0 - Overcast, 1 - Rain, 2 - Sunny)\n",
    "play_tennis['Outlook'] = number.fit_transform(play_tennis['Outlook'])\n",
    "\n",
    "# 3 classes from Temperature (0 - Cool, 1 - Hot, 2 - Mild)\n",
    "play_tennis['Temperature'] = number.fit_transform(play_tennis['Temperature'])\n",
    "\n",
    "# 2 classes from Humidity (0 - High, 1 - Normal)\n",
    "play_tennis['Humidity'] = number.fit_transform(play_tennis['Humidity'])\n",
    "\n",
    "# 2 classes from Wind (0 - False, 1 - True), means whether the wind is present or not.\n",
    "play_tennis['Wind'] = number.fit_transform(play_tennis['Wind'])\n",
    "\n",
    "# 2 classes of Play Tennis (0 - No, 1 - Yes)\n",
    "play_tennis['Play Tennis'] = number.fit_transform(play_tennis['Play Tennis'])\n",
    "\n",
    "#Print the converted table after transformation to see the results\n",
    "print(play_tennis)\n"
   ]
  },
  {
   "cell_type": "code",
   "execution_count": 5,
   "metadata": {},
   "outputs": [],
   "source": [
    "# Let's now define the features and the target variable, the features are the independent variable and our target variable will be the dependent variable\n",
    "features = [\"Outlook\", \"Temperature\", \"Humidity\", \"Wind\"]\n",
    "target = \"Play Tennis\"\n",
    "\n"
   ]
  },
  {
   "cell_type": "code",
   "execution_count": 12,
   "metadata": {},
   "outputs": [],
   "source": [
    "# After defining the features and target variable, we proceeed to train, and test split. We will build the model using the TRAIN dataset and validate the model on TEST dataset\n",
    "# We can use sklearn's train_test_split() method in order to split the data into training and test set.\n",
    "\n",
    "features_train, features_test, target_train, target_test = train_test_split(play_tennis[features], play_tennis[target], test_size = 0.30, random_state = 40)"
   ]
  },
  {
   "cell_type": "code",
   "execution_count": 15,
   "metadata": {},
   "outputs": [
    {
     "name": "stdout",
     "output_type": "stream",
     "text": [
      "\t Training Feature \n",
      "     Outlook  Temperature  Humidity  Wind\n",
      "4         1            0         1     0\n",
      "1         2            1         0     1\n",
      "2         0            1         0     0\n",
      "9         1            2         1     0\n",
      "8         2            0         1     0\n",
      "5         1            0         1     1\n",
      "7         2            2         0     0\n",
      "11        0            2         0     1\n",
      "6         0            0         1     1\n",
      "\t Testing Feature \n",
      "     Outlook  Temperature  Humidity  Wind\n",
      "0         2            1         0     0\n",
      "13        1            2         0     1\n",
      "10        2            2         1     1\n",
      "3         1            2         0     0\n",
      "12        0            1         1     0\n",
      "\t Testing Feature \n",
      " 4     1\n",
      "1     0\n",
      "2     1\n",
      "9     1\n",
      "8     1\n",
      "5     0\n",
      "7     0\n",
      "11    1\n",
      "6     1\n",
      "Name: Play Tennis, dtype: int32\n",
      "\t Testing Feature \n",
      " 0     0\n",
      "13    0\n",
      "10    1\n",
      "3     1\n",
      "12    1\n",
      "Name: Play Tennis, dtype: int32\n"
     ]
    }
   ],
   "source": [
    "# Let's display the split datasets\n",
    "print('\\t Training Feature \\n', features_train)\n",
    "print('\\t Testing Feature \\n', features_test)\n",
    "print('\\t Testing Feature \\n', target_train)\n",
    "print('\\t Testing Feature \\n', target_test)\n"
   ]
  },
  {
   "cell_type": "markdown",
   "metadata": {},
   "source": [
    "We can see here the split data set for training and testing, we have used 20% for the testing therefore, it showed 3 test data randomly, which is approx. 20% of 14.\n"
   ]
  },
  {
   "cell_type": "code",
   "execution_count": 8,
   "metadata": {},
   "outputs": [],
   "source": [
    "# We now proceed to the Gaussian Naive Bayes Implementation. The Machine Learning Implementation.\n",
    "# We are going to use sklearn's GaussianNB module. Let's first create the model.\n",
    "model = GaussianNB()\n"
   ]
  },
  {
   "cell_type": "markdown",
   "metadata": {},
   "source": [
    "We have built the classifier for our trained data. We will use the fit() method in order to train the data. After this, the model can now make predictions.\n",
    "We will also use the test set on predict() method, the **TEST SET** will serve as its parameters."
   ]
  },
  {
   "cell_type": "code",
   "execution_count": 9,
   "metadata": {},
   "outputs": [],
   "source": [
    "model.fit(features_train, target_train)\n",
    "\n",
    "# After fitting the training data, we will now make predictions using predict with test set as its parameters.\n",
    "pred = model.predict(features_test)\n"
   ]
  },
  {
   "cell_type": "code",
   "execution_count": 10,
   "metadata": {},
   "outputs": [
    {
     "name": "stdout",
     "output_type": "stream",
     "text": [
      "Model Accuracy =  80.0 %\n"
     ]
    }
   ],
   "source": [
    "# then add and calculate the accuracy of our model\n",
    "accuracy = accuracy_score(target_test, pred)\n",
    "print(\"Model Accuracy = \", accuracy*100,\"%\")"
   ]
  },
  {
   "cell_type": "code",
   "execution_count": 16,
   "metadata": {},
   "outputs": [
    {
     "name": "stdout",
     "output_type": "stream",
     "text": [
      "\n",
      "Play\n"
     ]
    },
    {
     "name": "stderr",
     "output_type": "stream",
     "text": [
      "c:\\Users\\Admin\\AppData\\Local\\Programs\\Python\\Python39\\lib\\site-packages\\sklearn\\base.py:450: UserWarning: X does not have valid feature names, but GaussianNB was fitted with feature names\n",
      "  warnings.warn(\n"
     ]
    }
   ],
   "source": [
    "# now we will predict using the conditions set in the table\n",
    "# for example \n",
    "# Now suppose we want to predict for the conditions:\n",
    "# Outlook = Rain (Rain is represented as 1 in the Outlook class)\n",
    "# Temperature = Mild (Mild is represented as 2 in the Temperature class)\n",
    "# Humidity = High (High is represented as 0 in the Humidity class)\n",
    "# Wind = False (False is represented as 0 in the Wind class)\n",
    "# According to our data set, given these features play should be 1 or \"PLAY\"\n",
    "\n",
    "answer = model.predict([[1,0,1,0]]) \n",
    "\n",
    "if answer == 1:\n",
    "    print(\"\\nPlay\")\n",
    "elif answer == 0:\n",
    "    print(\"\\nNo Play\")\n",
    "\n",
    "# There we have built a simple gaussian model classifier with an 80% accuracy. \n",
    "# You can now create random datasets to know how well "
   ]
  }
 ],
 "metadata": {
  "kernelspec": {
   "display_name": "Python 3.9.5 64-bit",
   "language": "python",
   "name": "python3"
  },
  "language_info": {
   "codemirror_mode": {
    "name": "ipython",
    "version": 3
   },
   "file_extension": ".py",
   "mimetype": "text/x-python",
   "name": "python",
   "nbconvert_exporter": "python",
   "pygments_lexer": "ipython3",
   "version": "3.9.5"
  },
  "orig_nbformat": 4,
  "vscode": {
   "interpreter": {
    "hash": "0d591c6e422414675974e227c13f5382000c440fedd3c5006ef2be5d887f0ba7"
   }
  }
 },
 "nbformat": 4,
 "nbformat_minor": 2
}
